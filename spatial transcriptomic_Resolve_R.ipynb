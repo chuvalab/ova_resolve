{
 "cells": [
  {
   "cell_type": "code",
   "execution_count": null,
   "id": "65274d54-acae-43e9-a513-4893c36595b1",
   "metadata": {},
   "outputs": [],
   "source": [
    "library(openxlsx)\n",
    "library(ggplot2)\n",
    "library(scales)"
   ]
  },
  {
   "cell_type": "code",
   "execution_count": null,
   "id": "ba81edab-adba-4182-a91a-be037cf62acb",
   "metadata": {},
   "outputs": [],
   "source": [
    "meta <- read.xlsx(\"meta_data_resolve.xlsx\")"
   ]
  },
  {
   "cell_type": "code",
   "execution_count": null,
   "id": "9b70af91-4824-4d6a-b256-26a02be16c8a",
   "metadata": {},
   "outputs": [],
   "source": [
    "desired_donor_order <- c(\n",
    "    \"FTM31\", \"FTM32\", \"FTM36\", \"FTM37\", \"FTM44\", \"FTM120\" \n",
    ")\n",
    "\n",
    "meta$Donors <- factor(meta$Donors, levels = desired_donor_order)\n",
    "meta$leiden <- as.factor(meta$leiden)"
   ]
  },
  {
   "cell_type": "code",
   "execution_count": null,
   "id": "e1650216-3081-4080-bf7d-f6bbec51d0ce",
   "metadata": {},
   "outputs": [],
   "source": [
    "leiden_levels_numeric <- sort(as.numeric(as.character(unique(meta$leiden))))\n",
    "meta$leiden <- factor(as.character(meta$leiden), levels = as.character(leiden_levels_numeric))"
   ]
  },
  {
   "cell_type": "code",
   "execution_count": null,
   "id": "922db87b-1ced-4871-a030-f0ea2ddf248d",
   "metadata": {},
   "outputs": [],
   "source": [
    "custom_palette <- c(\n",
    "    \"0\" = \"#515151\",\n",
    "    \"1\" = \"#AB76AE\",\n",
    "    \"2\" = \"#ffa5aa\",\n",
    "    \"3\" = \"#FE664D\",\n",
    "    \"4\" = \"#ff002a\",\n",
    "    \"5\" = \"#00FFFF\",\n",
    "    \"6\" = \"#32a852\",\n",
    "    \"7\" = \"#e5e022\",\n",
    "    \"8\" = \"#565DFD\",\n",
    "    \"9\" = \"#4fa9ff\",\n",
    "    \"10\" = \"#F032E6\",\n",
    "    \"11\" = \"#32a88e\",\n",
    "    \"12\" = \"#FF1493\"\n",
    ")"
   ]
  },
  {
   "cell_type": "code",
   "execution_count": null,
   "id": "697d1531-2b75-4e77-93b6-a9e893eb920a",
   "metadata": {},
   "outputs": [],
   "source": [
    "my_plot=ggplot(meta, aes(x = Donors, fill = leiden)) +\n",
    "  geom_bar(position = \"fill\") +\n",
    "  labs(\n",
    "    title = \"Proportion of Leiden Clusters per Donor\",\n",
    "    x = \"Donors\",\n",
    "    y = \"Proportion of Cells\",\n",
    "    fill = \"Leiden Cluster\"\n",
    "  ) +scale_y_continuous(labels = percent, expand = c(0, 0))+\n",
    "  scale_fill_manual(values = custom_palette) + \n",
    "  theme_minimal() + \n",
    "  theme(\n",
    "    plot.title = element_text(hjust = 0.5, size = 16),\n",
    "\n",
    "    axis.text.x = element_text(size = 12),\n",
    "    axis.text.y = element_text(size = 12),\n",
    "\n",
    "    axis.title.x = element_text(size = 14, face = \"bold\"),\n",
    "    axis.title.y = element_text(size = 14, face = \"bold\"),\n",
    "\n",
    "    axis.line = element_line(colour = \"black\", linewidth = 0.8),\n",
    "\n",
    "  \n",
    "    panel.grid.major = element_blank(),\n",
    "    panel.grid.minor = element_blank()  \n",
    "  )\n",
    "\n",
    "ggsave(filename =\"resolve_dornos_leiden.pdf\", \n",
    "       plot = my_plot,             \n",
    "       device = \"pdf\",             \n",
    "       width = 10,                  \n",
    "       height = 10,                \n",
    "       units = \"in\",             \n",
    "       dpi = 300)"
   ]
  },
  {
   "cell_type": "code",
   "execution_count": null,
   "id": "1dcc06b1-ca53-4113-87b6-7219814ed58d",
   "metadata": {},
   "outputs": [],
   "source": []
  },
  {
   "cell_type": "code",
   "execution_count": null,
   "id": "2229009e-f3f8-46ef-a900-66f346e8bfc9",
   "metadata": {},
   "outputs": [],
   "source": []
  }
 ],
 "metadata": {
  "kernelspec": {
   "display_name": "R",
   "language": "R",
   "name": "ir"
  },
  "language_info": {
   "codemirror_mode": "r",
   "file_extension": ".r",
   "mimetype": "text/x-r-source",
   "name": "R",
   "pygments_lexer": "r",
   "version": "4.3.1"
  }
 },
 "nbformat": 4,
 "nbformat_minor": 5
}
